{
 "cells": [
  {
   "cell_type": "markdown",
   "metadata": {},
   "source": [
    "# Background Subtraction"
   ]
  },
  {
   "cell_type": "markdown",
   "metadata": {},
   "source": [
    "It is a Gaussian Mixture-based Background/Foreground Segmentation Algorithm. It was introduced in the paper \"An improved adaptive background mixture model for real-time tracking with shadow detection\" by P. KadewTraKuPong and R. Bowden in 2001. It uses a method to model each background pixel by a mixture of K Gaussian distributions (K = 3 to 5). The weights of the mixture represent the time proportions that those colours stay in the scene. The probable background colours are the ones which stay longer and more static.\n",
    "While coding, we need to create a background object using the function, cv2.createBackgroundSubtractorMOG(). It has some optional parameters like length of history, number of gaussian mixtures, threshold etc. It is all set to some default values. Then inside the video loop, use backgroundsubtractor.apply() method to get the foreground mask.\n",
    "See a simple example below: "
   ]
  },
  {
   "cell_type": "code",
   "execution_count": 4,
   "metadata": {},
   "outputs": [],
   "source": [
    "#! /usr/bin/python\n",
    " \n",
    "import cv2\n",
    " \n",
    "face_cascade = cv2.CascadeClassifier('cars.xml')\n",
    "vc = cv2.VideoCapture('C:/Users/Evariet/OneDrive - Florida State University/Headway_1/clip222.avi')\n",
    " \n",
    "if vc.isOpened():\n",
    "    rval , frame = vc.read()\n",
    "else:\n",
    "    rval = False\n",
    " \n",
    "while rval:\n",
    "    rval, frame = vc.read()\n",
    " \n",
    "    # car detection.\n",
    "    cars = face_cascade.detectMultiScale(frame, 1.1, 2)\n",
    " \n",
    "    ncars = 0\n",
    "    for (x,y,w,h) in cars:\n",
    "        cv2.rectangle(frame,(x,y),(x+w,y+h),(0,0,255),2)\n",
    "        ncars = ncars + 1\n",
    " \n",
    "    # show result\n",
    "    cv2.imshow(\"Result\",frame)\n",
    "    cv2.waitKey(1);\n",
    "vc.release()"
   ]
  }
 ],
 "metadata": {
  "kernelspec": {
   "display_name": "Python 3",
   "language": "python",
   "name": "python3"
  },
  "language_info": {
   "codemirror_mode": {
    "name": "ipython",
    "version": 3
   },
   "file_extension": ".py",
   "mimetype": "text/x-python",
   "name": "python",
   "nbconvert_exporter": "python",
   "pygments_lexer": "ipython3",
   "version": "3.6.3"
  }
 },
 "nbformat": 4,
 "nbformat_minor": 2
}
