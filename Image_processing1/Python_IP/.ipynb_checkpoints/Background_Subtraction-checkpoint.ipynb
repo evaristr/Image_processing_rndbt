{
 "cells": [
  {
   "cell_type": "code",
   "execution_count": null,
   "metadata": {},
   "outputs": [],
   "source": [
    "import cv2\n",
    "import numpy as np\n",
    "\n",
    "\n",
    "c = cv2.VideoCapture('C:/Users/Evarist/Documents/Headway_1/trial2.mp4')\n",
    "_,f = c.read()\n",
    "\n",
    "avg1 = np.float32(f)\n",
    "avg2 = np.float32(f)\n",
    "\n",
    "# loop over images and estimate background \n",
    "for x in range(0,9):\n",
    "    _,f = c.read()\n",
    "\n",
    "    cv2.accumulateWeighted(f,avg1,1)\n",
    "    cv2.accumulateWeighted(f,avg2,0.01)\n",
    "\n",
    "    res1 = cv2.convertScaleAbs(avg1)\n",
    "    res2 = cv2.convertScaleAbs(avg2)\n",
    "\n",
    "    cv2.imshow('img',f)\n",
    "    cv2.imshow('avg1',res1)\n",
    "    cv2.imshow('avg2',res2)\n",
    "    k = cv2.waitKey(0) & 0xff\n",
    "    if k == 10:\n",
    "        break\n"
   ]
  },
  {
   "cell_type": "markdown",
   "metadata": {},
   "source": [
    "Imtroductory Import for running the cprograms"
   ]
  },
  {
   "cell_type": "code",
   "execution_count": 1,
   "metadata": {
    "collapsed": true
   },
   "outputs": [],
   "source": [
    "import numpy as np\n",
    "import cv2  \n",
    "import pylab as pl\n",
    "from roipoly import roipoly "
   ]
  },
  {
   "cell_type": "code",
   "execution_count": 2,
   "metadata": {
    "collapsed": true
   },
   "outputs": [],
   "source": [
    "cap = cv2.VideoCapture('C:/Users/Evariet/Documents/Headway_1/trial2.mp4')\n",
    "fgbg = cv2.createBackgroundSubtractorMOG2()"
   ]
  },
  {
   "cell_type": "code",
   "execution_count": null,
   "metadata": {
    "collapsed": true
   },
   "outputs": [],
   "source": []
  },
  {
   "cell_type": "code",
   "execution_count": null,
   "metadata": {
    "collapsed": true
   },
   "outputs": [],
   "source": [
    "cap.set(cv2.CAP_PROP_POS_MSEC,20000);\n",
    "ret, imag = cap.read()\n",
    "r = cv2.selectROI(imag)\n",
    "#imCrop = imag[int(r[1]):int(r[1]+r[3]), int(r[0]):int(r[0]+r[2])]\n",
    "#res = cv2.bitwise_and(imag,imag,mask = imCrop)\n",
    "\n",
    "cap.set(cv2.CAP_PROP_POS_MSEC,20000);\n",
    "ret, imag = cap.read()\n",
    "#mask = np.zeros(imag.shape[:2],dtype = 'uint8')\n",
    "r = cv2.selectROI(imag)\n",
    "maskImg = cv2.SetImageROI(imag, r)\n",
    "cv2.imshow(\"Image\", maskImg);\n"
   ]
  },
  {
   "cell_type": "code",
   "execution_count": 4,
   "metadata": {},
   "outputs": [
    {
     "ename": "error",
     "evalue": "C:\\projects\\opencv-python\\opencv\\modules\\core\\src\\matrix.cpp:981: error: (-215) dims <= 2 && step[0] > 0 in function cv::Mat::locateROI\n",
     "output_type": "error",
     "traceback": [
      "\u001b[1;31m---------------------------------------------------------------------------\u001b[0m",
      "\u001b[1;31merror\u001b[0m                                     Traceback (most recent call last)",
      "\u001b[1;32m<ipython-input-4-1a2244428f2c>\u001b[0m in \u001b[0;36m<module>\u001b[1;34m()\u001b[0m\n\u001b[0;32m      6\u001b[0m     \u001b[0mfgmask\u001b[0m \u001b[1;33m=\u001b[0m \u001b[0mfgbg\u001b[0m\u001b[1;33m.\u001b[0m\u001b[0mapply\u001b[0m\u001b[1;33m(\u001b[0m\u001b[0mframe\u001b[0m\u001b[1;33m)\u001b[0m\u001b[1;33m\u001b[0m\u001b[0m\n\u001b[0;32m      7\u001b[0m     \u001b[0mkernel\u001b[0m \u001b[1;33m=\u001b[0m \u001b[0mnp\u001b[0m\u001b[1;33m.\u001b[0m\u001b[0mones\u001b[0m\u001b[1;33m(\u001b[0m\u001b[1;33m(\u001b[0m\u001b[1;36m5\u001b[0m\u001b[1;33m,\u001b[0m\u001b[1;36m5\u001b[0m\u001b[1;33m)\u001b[0m\u001b[1;33m,\u001b[0m\u001b[0mnp\u001b[0m\u001b[1;33m.\u001b[0m\u001b[0muint8\u001b[0m\u001b[1;33m)\u001b[0m\u001b[1;33m\u001b[0m\u001b[0m\n\u001b[1;32m----> 8\u001b[1;33m     \u001b[0mfgmask\u001b[0m \u001b[1;33m=\u001b[0m \u001b[0mcv2\u001b[0m\u001b[1;33m.\u001b[0m\u001b[0mmorphologyEx\u001b[0m\u001b[1;33m(\u001b[0m\u001b[0mfgmask\u001b[0m\u001b[1;33m,\u001b[0m \u001b[0mcv2\u001b[0m\u001b[1;33m.\u001b[0m\u001b[0mMORPH_OPEN\u001b[0m\u001b[1;33m,\u001b[0m \u001b[0mkernel\u001b[0m\u001b[1;33m)\u001b[0m\u001b[1;33m\u001b[0m\u001b[0m\n\u001b[0m\u001b[0;32m      9\u001b[0m     \u001b[1;32mif\u001b[0m \u001b[0mi\u001b[0m \u001b[1;33m==\u001b[0m \u001b[1;36m10\u001b[0m\u001b[1;33m:\u001b[0m\u001b[1;33m\u001b[0m\u001b[0m\n\u001b[0;32m     10\u001b[0m         \u001b[1;31m# Display the fgmask frame\u001b[0m\u001b[1;33m\u001b[0m\u001b[1;33m\u001b[0m\u001b[0m\n",
      "\u001b[1;31merror\u001b[0m: C:\\projects\\opencv-python\\opencv\\modules\\core\\src\\matrix.cpp:981: error: (-215) dims <= 2 && step[0] > 0 in function cv::Mat::locateROI\n"
     ]
    }
   ],
   "source": [
    "i=1\n",
    "while(True):\n",
    "    # Capture frame-by-frame\n",
    "    ret, frame = cap.read()\n",
    "\n",
    "    fgmask = fgbg.apply(frame)\n",
    "    kernel = np.ones((5,5),np.uint8)\n",
    "    fgmask = cv2.morphologyEx(fgmask, cv2.MORPH_OPEN, kernel)\n",
    "    if i == 10:\n",
    "        # Display the fgmask frame\n",
    "        cv2.imshow('fgmask',fgmask)\n",
    "        # Display original frame\n",
    "        cv2.imshow('img', frame)\n",
    "\n",
    "   # k = cv2.waitKey(0) & 0xff\n",
    "   # if k == 5:\n",
    "  #      break\n",
    "    i = i+1\n",
    "cap.release()\n",
    "cv2.destroyAllWindows()"
   ]
  },
  {
   "cell_type": "markdown",
   "metadata": {},
   "source": [
    "Determination of the region of interest\n",
    "\n"
   ]
  },
  {
   "cell_type": "code",
   "execution_count": null,
   "metadata": {
    "collapsed": true
   },
   "outputs": [],
   "source": [
    "# show the image\n",
    "cv2.imshow(\"left click: line segment         right click: close region\",imag)\n",
    "#pl.colorbar()\n",
    "#cv2.title(\"left click: line segment         right click: close region\")\n",
    "# let user draw first ROI\n",
    "ROI1 = roipoly(roicolor='r') #let user draw first ROI\n",
    "i = 0"
   ]
  }
 ],
 "metadata": {
  "kernelspec": {
   "display_name": "Python 3",
   "language": "python",
   "name": "python3"
  },
  "language_info": {
   "codemirror_mode": {
    "name": "ipython",
    "version": 3
   },
   "file_extension": ".py",
   "mimetype": "text/x-python",
   "name": "python",
   "nbconvert_exporter": "python",
   "pygments_lexer": "ipython3",
   "version": "3.6.3"
  }
 },
 "nbformat": 4,
 "nbformat_minor": 2
}
